{
 "cells": [
  {
   "cell_type": "markdown",
   "id": "23aed32c",
   "metadata": {},
   "source": [
    "# Summary of ipython notebooks for DSA 5021\n",
    "\n",
    "16 August 2023"
   ]
  },
  {
   "cell_type": "markdown",
   "id": "5b35187d",
   "metadata": {},
   "source": [
    "DSA 5021 is a 1 credit hour course offered by the [Data Science and Analytics Institute](https://www.ou.edu/coe/dsai) within the College of Engineering at OU, normally in the Fall Semester. The formal title may vary: either [DSA Applied to Meteorology Data](https://www.ou.edu/coe/dsai/academics/undergraduate-certificate) or [Data Analytics and Meteorology](https://www.ou.edu/coe/dsai/student-resources/syllabi). It is the same course.\n",
    "In Spring 2024 the course is taught by [Professor Emeritus Brian Fiedler](http://tinyurl.com/DSA5021IntroVideo).\n",
    "\n",
    "## Course description for Spring 2024\n",
    "This course covers the application of data analytics to meteorology data. We examine the skill of familiar\n",
    "temperature and rainfall probability forecasts. Also, we examine meteorology data that is stored regularly\n",
    "in space and time, so-called gridded data. For example, satellite or forecast data that is stored in a\n",
    "specific latitude-longitude grid, and available at uniform increments in time. We learn to offer animations\n",
    "of such data.\n",
    "\n",
    "The programming language used in this course will be Python.\n",
    "\n",
    "## The ipython notebooks\n",
    "\n",
    "The course requires completing tasks defined in these 3 ipython notebooks.\n",
    "\n",
    " * [Forecast Skill](https://anaconda.org/bfiedler/forecastskill/notebook) Site forecasts for temperature, compared with climatology and persistence.\n",
    " * [Skill of Rain Probability Forecasting](https://anaconda.org/bfiedler/forecastprobabilityskill/notebook) Skill and value of rainfall probability forecasts.\n",
    " * [netCDF data of Sea Surface Temperature](https://anaconda.org/bfiedler/griddedsstdata/notebook) We ultimately make [these animations](http://dsa5021.net/~bfiedler/sst.html).\n",
    " \n",
    "## Appendix\n",
    "\n",
    "The analysis of the skill of forecasts uses data from Australia. I have already composited the data for you: it can be [downloaded here](http://dsa5021.net/data/). \n",
    "\n",
    "The chore of compositing the data is contained in the following notebooks.  Use of these two notebooks is *not* required for the course. \n",
    "\n",
    " * [Australian Data for Forecast Verification](https://anaconda.org/bfiedler/australiaverificationdata/notebook)\n",
    " * [Australia rainfall probability verification data extraction](https://anaconda.org/bfiedler/australiarainfallverificationdata/notebook)"
   ]
  },
  {
   "cell_type": "code",
   "execution_count": null,
   "id": "7633eff8",
   "metadata": {},
   "outputs": [],
   "source": []
  }
 ],
 "metadata": {
  "kernelspec": {
   "display_name": "anaconda-2022.05-py39",
   "language": "python",
   "name": "conda-env-anaconda-2022.05-py39-py"
  },
  "language_info": {
   "codemirror_mode": {
    "name": "ipython",
    "version": 3
   },
   "file_extension": ".py",
   "mimetype": "text/x-python",
   "name": "python",
   "nbconvert_exporter": "python",
   "pygments_lexer": "ipython3",
   "version": "3.9.12"
  }
 },
 "nbformat": 4,
 "nbformat_minor": 5
}
